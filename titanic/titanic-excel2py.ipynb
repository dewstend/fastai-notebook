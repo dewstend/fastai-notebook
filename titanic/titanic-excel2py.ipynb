{
 "cells": [
  {
   "cell_type": "code",
   "execution_count": 16,
   "metadata": {
    "_cell_guid": "b1076dfc-b9ad-4769-8c92-a6c4dae69d19",
    "_uuid": "8f2839f25d086af736a60e9eeb907d3b93b6e0e5",
    "execution": {
     "iopub.execute_input": "2025-05-30T00:57:47.057601Z",
     "iopub.status.busy": "2025-05-30T00:57:47.057309Z",
     "iopub.status.idle": "2025-05-30T00:57:47.458591Z",
     "shell.execute_reply": "2025-05-30T00:57:47.457743Z",
     "shell.execute_reply.started": "2025-05-30T00:57:47.057575Z"
    },
    "trusted": true
   },
   "outputs": [],
   "source": [
    "from pandas import pandas as pd, DataFrame\n",
    "from torch import torch, Tensor\n",
    "import numpy as np"
   ]
  },
  {
   "cell_type": "code",
   "execution_count": 17,
   "metadata": {
    "trusted": true
   },
   "outputs": [],
   "source": [
    "def relu(tensor: Tensor):\n",
    "    return torch.clip(tensor, 0.)"
   ]
  },
  {
   "cell_type": "markdown",
   "metadata": {},
   "source": [
    "# Import Competition Data"
   ]
  },
  {
   "cell_type": "code",
   "execution_count": 18,
   "metadata": {
    "execution": {
     "iopub.execute_input": "2025-05-30T00:57:47.460407Z",
     "iopub.status.busy": "2025-05-30T00:57:47.460085Z",
     "iopub.status.idle": "2025-05-30T00:57:47.479833Z",
     "shell.execute_reply": "2025-05-30T00:57:47.478872Z",
     "shell.execute_reply.started": "2025-05-30T00:57:47.460389Z"
    },
    "trusted": true
   },
   "outputs": [],
   "source": [
    "training_data = pd.read_csv(\"./downloads/train.csv\")"
   ]
  },
  {
   "cell_type": "code",
   "execution_count": 19,
   "metadata": {
    "execution": {
     "iopub.execute_input": "2025-05-30T00:57:47.481101Z",
     "iopub.status.busy": "2025-05-30T00:57:47.480824Z",
     "iopub.status.idle": "2025-05-30T00:57:47.497563Z",
     "shell.execute_reply": "2025-05-30T00:57:47.496766Z",
     "shell.execute_reply.started": "2025-05-30T00:57:47.481080Z"
    },
    "trusted": true
   },
   "outputs": [
    {
     "data": {
      "text/html": [
       "<div>\n",
       "<style scoped>\n",
       "    .dataframe tbody tr th:only-of-type {\n",
       "        vertical-align: middle;\n",
       "    }\n",
       "\n",
       "    .dataframe tbody tr th {\n",
       "        vertical-align: top;\n",
       "    }\n",
       "\n",
       "    .dataframe thead th {\n",
       "        text-align: right;\n",
       "    }\n",
       "</style>\n",
       "<table border=\"1\" class=\"dataframe\">\n",
       "  <thead>\n",
       "    <tr style=\"text-align: right;\">\n",
       "      <th></th>\n",
       "      <th>PassengerId</th>\n",
       "      <th>Survived</th>\n",
       "      <th>Pclass</th>\n",
       "      <th>Name</th>\n",
       "      <th>Sex</th>\n",
       "      <th>Age</th>\n",
       "      <th>SibSp</th>\n",
       "      <th>Parch</th>\n",
       "      <th>Ticket</th>\n",
       "      <th>Fare</th>\n",
       "      <th>Cabin</th>\n",
       "      <th>Embarked</th>\n",
       "    </tr>\n",
       "  </thead>\n",
       "  <tbody>\n",
       "    <tr>\n",
       "      <th>1</th>\n",
       "      <td>2</td>\n",
       "      <td>1</td>\n",
       "      <td>1</td>\n",
       "      <td>Cumings, Mrs. John Bradley (Florence Briggs Th...</td>\n",
       "      <td>female</td>\n",
       "      <td>38.0</td>\n",
       "      <td>1</td>\n",
       "      <td>0</td>\n",
       "      <td>PC 17599</td>\n",
       "      <td>71.2833</td>\n",
       "      <td>C85</td>\n",
       "      <td>C</td>\n",
       "    </tr>\n",
       "    <tr>\n",
       "      <th>3</th>\n",
       "      <td>4</td>\n",
       "      <td>1</td>\n",
       "      <td>1</td>\n",
       "      <td>Futrelle, Mrs. Jacques Heath (Lily May Peel)</td>\n",
       "      <td>female</td>\n",
       "      <td>35.0</td>\n",
       "      <td>1</td>\n",
       "      <td>0</td>\n",
       "      <td>113803</td>\n",
       "      <td>53.1000</td>\n",
       "      <td>C123</td>\n",
       "      <td>S</td>\n",
       "    </tr>\n",
       "    <tr>\n",
       "      <th>6</th>\n",
       "      <td>7</td>\n",
       "      <td>0</td>\n",
       "      <td>1</td>\n",
       "      <td>McCarthy, Mr. Timothy J</td>\n",
       "      <td>male</td>\n",
       "      <td>54.0</td>\n",
       "      <td>0</td>\n",
       "      <td>0</td>\n",
       "      <td>17463</td>\n",
       "      <td>51.8625</td>\n",
       "      <td>E46</td>\n",
       "      <td>S</td>\n",
       "    </tr>\n",
       "    <tr>\n",
       "      <th>10</th>\n",
       "      <td>11</td>\n",
       "      <td>1</td>\n",
       "      <td>3</td>\n",
       "      <td>Sandstrom, Miss. Marguerite Rut</td>\n",
       "      <td>female</td>\n",
       "      <td>4.0</td>\n",
       "      <td>1</td>\n",
       "      <td>1</td>\n",
       "      <td>PP 9549</td>\n",
       "      <td>16.7000</td>\n",
       "      <td>G6</td>\n",
       "      <td>S</td>\n",
       "    </tr>\n",
       "    <tr>\n",
       "      <th>11</th>\n",
       "      <td>12</td>\n",
       "      <td>1</td>\n",
       "      <td>1</td>\n",
       "      <td>Bonnell, Miss. Elizabeth</td>\n",
       "      <td>female</td>\n",
       "      <td>58.0</td>\n",
       "      <td>0</td>\n",
       "      <td>0</td>\n",
       "      <td>113783</td>\n",
       "      <td>26.5500</td>\n",
       "      <td>C103</td>\n",
       "      <td>S</td>\n",
       "    </tr>\n",
       "  </tbody>\n",
       "</table>\n",
       "</div>"
      ],
      "text/plain": [
       "    PassengerId  Survived  Pclass  \\\n",
       "1             2         1       1   \n",
       "3             4         1       1   \n",
       "6             7         0       1   \n",
       "10           11         1       3   \n",
       "11           12         1       1   \n",
       "\n",
       "                                                 Name     Sex   Age  SibSp  \\\n",
       "1   Cumings, Mrs. John Bradley (Florence Briggs Th...  female  38.0      1   \n",
       "3        Futrelle, Mrs. Jacques Heath (Lily May Peel)  female  35.0      1   \n",
       "6                             McCarthy, Mr. Timothy J    male  54.0      0   \n",
       "10                    Sandstrom, Miss. Marguerite Rut  female   4.0      1   \n",
       "11                           Bonnell, Miss. Elizabeth  female  58.0      0   \n",
       "\n",
       "    Parch    Ticket     Fare Cabin Embarked  \n",
       "1       0  PC 17599  71.2833   C85        C  \n",
       "3       0    113803  53.1000  C123        S  \n",
       "6       0     17463  51.8625   E46        S  \n",
       "10      1   PP 9549  16.7000    G6        S  \n",
       "11      0    113783  26.5500  C103        S  "
      ]
     },
     "execution_count": 19,
     "metadata": {},
     "output_type": "execute_result"
    }
   ],
   "source": [
    "training_data = training_data.dropna()\n",
    "training_data.head()"
   ]
  },
  {
   "cell_type": "code",
   "execution_count": 20,
   "metadata": {
    "execution": {
     "iopub.execute_input": "2025-05-30T00:57:47.499429Z",
     "iopub.status.busy": "2025-05-30T00:57:47.499178Z",
     "iopub.status.idle": "2025-05-30T00:57:47.506081Z",
     "shell.execute_reply": "2025-05-30T00:57:47.505296Z",
     "shell.execute_reply.started": "2025-05-30T00:57:47.499406Z"
    },
    "trusted": true
   },
   "outputs": [],
   "source": [
    "train_df=training_data.sample(frac=0.8,random_state=200)\n",
    "test_df=training_data.drop(train_df.index)"
   ]
  },
  {
   "cell_type": "code",
   "execution_count": 21,
   "metadata": {
    "trusted": true
   },
   "outputs": [],
   "source": [
    "def get_x_values(df: DataFrame):\n",
    "    x_values = df.drop(columns=['PassengerId', 'Name', 'Ticket', 'Cabin', 'Survived'])\n",
    "\n",
    "    x_values['is_male'] = (df[\"Sex\"] == \"male\").astype(int)\n",
    "    x_values['embarked_c'] = (df[\"Embarked\"] == \"C\").astype(int)\n",
    "    x_values['embarked_s'] = (df[\"Embarked\"] == \"S\").astype(int)\n",
    "    x_values['pclass_1'] = (df[\"Pclass\"] == 1).astype(int)\n",
    "    x_values['pclass_2'] = (df[\"Pclass\"] == 2).astype(int)\n",
    "    \n",
    "    x_values = x_values.drop(columns=['Sex', 'Embarked', 'Pclass'])\n",
    "\n",
    "    # Normalize numeric columns\n",
    "    x_values['Age'] = x_values['Age'] / x_values['Age'].max()\n",
    "    # x_values['Fare'] = np.log10(x_values['Fare']+1)\n",
    "    x_values['Fare'] = x_values['Fare'] / x_values['Fare'].max()\n",
    "    x_values['SibSp'] = x_values['SibSp'] / x_values['SibSp'].max()\n",
    "    x_values['Parch'] = x_values['Parch'] / x_values['Parch'].max()\n",
    "    \n",
    "    # add bias\n",
    "    x_values['ones'] = 1\n",
    "    \n",
    "    return x_values"
   ]
  },
  {
   "cell_type": "code",
   "execution_count": 22,
   "metadata": {},
   "outputs": [],
   "source": [
    "def get_y_values(df: DataFrame):\n",
    "    return df[\"Survived\"]"
   ]
  },
  {
   "cell_type": "code",
   "execution_count": 23,
   "metadata": {
    "trusted": true
   },
   "outputs": [],
   "source": [
    "train_x = get_x_values(train_df)\n",
    "test_x = get_x_values(test_df)\n",
    "\n",
    "train_y = get_y_values(train_df)\n",
    "test_y = get_y_values(test_df)\n"
   ]
  },
  {
   "cell_type": "code",
   "execution_count": 24,
   "metadata": {
    "trusted": true
   },
   "outputs": [],
   "source": [
    "m_params_1 = torch.randn(train_x.shape[1], requires_grad=True)\n",
    "m_params_2 = torch.randn(train_x.shape[1], requires_grad=True)"
   ]
  },
  {
   "cell_type": "code",
   "execution_count": 25,
   "metadata": {},
   "outputs": [
    {
     "data": {
      "text/plain": [
       "tensor([-1.1539, -0.3985,  1.2789, -1.3050,  0.0401,  0.1261, -1.2428, -0.1117,\n",
       "        -0.1956,  0.7959], requires_grad=True)"
      ]
     },
     "execution_count": 25,
     "metadata": {},
     "output_type": "execute_result"
    }
   ],
   "source": [
    "m_params_1"
   ]
  },
  {
   "cell_type": "code",
   "execution_count": 26,
   "metadata": {
    "trusted": true
   },
   "outputs": [],
   "source": [
    "# make prediction using a double ReLu\n",
    "def f(x: DataFrame):\n",
    "    # Convert DataFrame to tensor\n",
    "    x_tensor = torch.tensor(x.values, dtype=torch.float32)\n",
    "    \n",
    "    linear_1 = x_tensor @ m_params_1\n",
    "    linear_2 = x_tensor @ m_params_2\n",
    "\n",
    "    return relu(linear_1) + relu(linear_2)"
   ]
  },
  {
   "cell_type": "code",
   "execution_count": 27,
   "metadata": {
    "execution": {
     "iopub.execute_input": "2025-05-30T00:57:47.507436Z",
     "iopub.status.busy": "2025-05-30T00:57:47.507139Z",
     "iopub.status.idle": "2025-05-30T00:57:47.521548Z",
     "shell.execute_reply": "2025-05-30T00:57:47.520629Z",
     "shell.execute_reply.started": "2025-05-30T00:57:47.507407Z"
    },
    "trusted": true
   },
   "outputs": [],
   "source": [
    "def train(epochs: int, learning_rate = 1e-3):\n",
    "    global m_params_1, m_params_2\n",
    "    \n",
    "    # Calculate the step intervals\n",
    "    step_size = epochs // 4  # This will give us 5 points (0, 1/4, 2/4, 3/4, 4/4)\n",
    "    print_steps = [0, step_size, step_size*2, step_size*3, epochs-1]\n",
    "    \n",
    "    for i in range(epochs):\n",
    "        # Zero out gradients\n",
    "        if m_params_1.grad is not None:\n",
    "            m_params_1.grad.zero_()\n",
    "        if m_params_2.grad is not None:\n",
    "            m_params_2.grad.zero_()\n",
    "            \n",
    "        # Forward pass\n",
    "        predictions = f(train_x)\n",
    "        y_tensor = torch.tensor(train_y.values, dtype=torch.float32)\n",
    "        loss = ((predictions - y_tensor) ** 2).mean()\n",
    "        \n",
    "        # Backward pass\n",
    "        loss.backward()\n",
    "        \n",
    "        with torch.no_grad():\n",
    "            m_params_1 -= m_params_1.grad * learning_rate\n",
    "            m_params_1.grad = None\n",
    "            m_params_2 -= m_params_2.grad * learning_rate\n",
    "            m_params_2.grad = None\n",
    "            \n",
    "        # Print only at specific steps\n",
    "        if i in print_steps:\n",
    "            print(f'step={i}; loss={loss:.2f}')"
   ]
  },
  {
   "cell_type": "code",
   "execution_count": 28,
   "metadata": {},
   "outputs": [
    {
     "name": "stdout",
     "output_type": "stream",
     "text": [
      "Print weights before training\n"
     ]
    },
    {
     "data": {
      "text/html": [
       "<div>\n",
       "<style scoped>\n",
       "    .dataframe tbody tr th:only-of-type {\n",
       "        vertical-align: middle;\n",
       "    }\n",
       "\n",
       "    .dataframe tbody tr th {\n",
       "        vertical-align: top;\n",
       "    }\n",
       "\n",
       "    .dataframe thead th {\n",
       "        text-align: right;\n",
       "    }\n",
       "</style>\n",
       "<table border=\"1\" class=\"dataframe\">\n",
       "  <thead>\n",
       "    <tr style=\"text-align: right;\">\n",
       "      <th></th>\n",
       "      <th>Parameter</th>\n",
       "      <th>m_params_1</th>\n",
       "      <th>m_params_2</th>\n",
       "    </tr>\n",
       "  </thead>\n",
       "  <tbody>\n",
       "    <tr>\n",
       "      <th>0</th>\n",
       "      <td>Age</td>\n",
       "      <td>-1.15</td>\n",
       "      <td>-0.09</td>\n",
       "    </tr>\n",
       "    <tr>\n",
       "      <th>1</th>\n",
       "      <td>SibSp</td>\n",
       "      <td>-0.40</td>\n",
       "      <td>-0.40</td>\n",
       "    </tr>\n",
       "    <tr>\n",
       "      <th>2</th>\n",
       "      <td>Parch</td>\n",
       "      <td>1.28</td>\n",
       "      <td>-0.01</td>\n",
       "    </tr>\n",
       "    <tr>\n",
       "      <th>3</th>\n",
       "      <td>Fare</td>\n",
       "      <td>-1.31</td>\n",
       "      <td>1.26</td>\n",
       "    </tr>\n",
       "    <tr>\n",
       "      <th>4</th>\n",
       "      <td>is_male</td>\n",
       "      <td>0.04</td>\n",
       "      <td>-0.26</td>\n",
       "    </tr>\n",
       "    <tr>\n",
       "      <th>5</th>\n",
       "      <td>embarked_c</td>\n",
       "      <td>0.13</td>\n",
       "      <td>0.39</td>\n",
       "    </tr>\n",
       "    <tr>\n",
       "      <th>6</th>\n",
       "      <td>embarked_s</td>\n",
       "      <td>-1.24</td>\n",
       "      <td>0.91</td>\n",
       "    </tr>\n",
       "    <tr>\n",
       "      <th>7</th>\n",
       "      <td>pclass_1</td>\n",
       "      <td>-0.11</td>\n",
       "      <td>-1.22</td>\n",
       "    </tr>\n",
       "    <tr>\n",
       "      <th>8</th>\n",
       "      <td>pclass_2</td>\n",
       "      <td>-0.20</td>\n",
       "      <td>0.94</td>\n",
       "    </tr>\n",
       "    <tr>\n",
       "      <th>9</th>\n",
       "      <td>ones</td>\n",
       "      <td>0.80</td>\n",
       "      <td>-0.35</td>\n",
       "    </tr>\n",
       "  </tbody>\n",
       "</table>\n",
       "</div>"
      ],
      "text/plain": [
       "    Parameter m_params_1 m_params_2\n",
       "0         Age      -1.15      -0.09\n",
       "1       SibSp      -0.40      -0.40\n",
       "2       Parch       1.28      -0.01\n",
       "3        Fare      -1.31       1.26\n",
       "4     is_male       0.04      -0.26\n",
       "5  embarked_c       0.13       0.39\n",
       "6  embarked_s      -1.24       0.91\n",
       "7    pclass_1      -0.11      -1.22\n",
       "8    pclass_2      -0.20       0.94\n",
       "9        ones       0.80      -0.35"
      ]
     },
     "execution_count": 28,
     "metadata": {},
     "output_type": "execute_result"
    }
   ],
   "source": [
    "print('Print weights before training')\n",
    "pd.DataFrame({\n",
    "    'Parameter': train_x.columns,\n",
    "    'm_params_1': [f\"{x:.2f}\" for x in m_params_1.tolist()],\n",
    "    'm_params_2': [f\"{x:.2f}\" for x in m_params_2.tolist()]\n",
    "})"
   ]
  },
  {
   "cell_type": "code",
   "execution_count": 29,
   "metadata": {},
   "outputs": [
    {
     "name": "stdout",
     "output_type": "stream",
     "text": [
      "step=0; loss=0.54\n",
      "step=2500; loss=0.17\n",
      "step=5000; loss=0.16\n",
      "step=7500; loss=0.16\n",
      "step=9999; loss=0.16\n"
     ]
    }
   ],
   "source": [
    "train(10000, 1e-2)"
   ]
  },
  {
   "cell_type": "code",
   "execution_count": 30,
   "metadata": {},
   "outputs": [
    {
     "name": "stdout",
     "output_type": "stream",
     "text": [
      "Accuracy: 83.78% (31/37 correct)\n"
     ]
    },
    {
     "data": {
      "text/html": [
       "<div>\n",
       "<style scoped>\n",
       "    .dataframe tbody tr th:only-of-type {\n",
       "        vertical-align: middle;\n",
       "    }\n",
       "\n",
       "    .dataframe tbody tr th {\n",
       "        vertical-align: top;\n",
       "    }\n",
       "\n",
       "    .dataframe thead th {\n",
       "        text-align: right;\n",
       "    }\n",
       "</style>\n",
       "<table border=\"1\" class=\"dataframe\">\n",
       "  <thead>\n",
       "    <tr style=\"text-align: right;\">\n",
       "      <th></th>\n",
       "      <th>Parameter</th>\n",
       "      <th>m_params_1</th>\n",
       "      <th>m_params_2</th>\n",
       "    </tr>\n",
       "  </thead>\n",
       "  <tbody>\n",
       "    <tr>\n",
       "      <th>0</th>\n",
       "      <td>Age</td>\n",
       "      <td>-0.39</td>\n",
       "      <td>-0.56</td>\n",
       "    </tr>\n",
       "    <tr>\n",
       "      <th>1</th>\n",
       "      <td>SibSp</td>\n",
       "      <td>0.32</td>\n",
       "      <td>-0.31</td>\n",
       "    </tr>\n",
       "    <tr>\n",
       "      <th>2</th>\n",
       "      <td>Parch</td>\n",
       "      <td>0.12</td>\n",
       "      <td>-0.30</td>\n",
       "    </tr>\n",
       "    <tr>\n",
       "      <th>3</th>\n",
       "      <td>Fare</td>\n",
       "      <td>-0.93</td>\n",
       "      <td>1.25</td>\n",
       "    </tr>\n",
       "    <tr>\n",
       "      <th>4</th>\n",
       "      <td>is_male</td>\n",
       "      <td>-0.57</td>\n",
       "      <td>0.33</td>\n",
       "    </tr>\n",
       "    <tr>\n",
       "      <th>5</th>\n",
       "      <td>embarked_c</td>\n",
       "      <td>0.01</td>\n",
       "      <td>0.36</td>\n",
       "    </tr>\n",
       "    <tr>\n",
       "      <th>6</th>\n",
       "      <td>embarked_s</td>\n",
       "      <td>-0.07</td>\n",
       "      <td>0.68</td>\n",
       "    </tr>\n",
       "    <tr>\n",
       "      <th>7</th>\n",
       "      <td>pclass_1</td>\n",
       "      <td>0.32</td>\n",
       "      <td>-1.22</td>\n",
       "    </tr>\n",
       "    <tr>\n",
       "      <th>8</th>\n",
       "      <td>pclass_2</td>\n",
       "      <td>-0.13</td>\n",
       "      <td>0.42</td>\n",
       "    </tr>\n",
       "    <tr>\n",
       "      <th>9</th>\n",
       "      <td>ones</td>\n",
       "      <td>0.95</td>\n",
       "      <td>-0.61</td>\n",
       "    </tr>\n",
       "  </tbody>\n",
       "</table>\n",
       "</div>"
      ],
      "text/plain": [
       "    Parameter m_params_1 m_params_2\n",
       "0         Age      -0.39      -0.56\n",
       "1       SibSp       0.32      -0.31\n",
       "2       Parch       0.12      -0.30\n",
       "3        Fare      -0.93       1.25\n",
       "4     is_male      -0.57       0.33\n",
       "5  embarked_c       0.01       0.36\n",
       "6  embarked_s      -0.07       0.68\n",
       "7    pclass_1       0.32      -1.22\n",
       "8    pclass_2      -0.13       0.42\n",
       "9        ones       0.95      -0.61"
      ]
     },
     "execution_count": 30,
     "metadata": {},
     "output_type": "execute_result"
    }
   ],
   "source": [
    "# Get predictions and convert to binary (0 or 1)\n",
    "train_preds = f(test_x)\n",
    "binary_preds = (train_preds.sigmoid() > 0.5).float()  # Convert to 0 or 1 based on threshold of 0.5\n",
    "\n",
    "# Calculate accuracy\n",
    "correct = (binary_preds == torch.tensor(test_y.values, dtype=torch.float32)).sum().item()\n",
    "total = len(test_y)\n",
    "accuracy = correct / total\n",
    "\n",
    "print(f'Accuracy: {accuracy:.2%} ({correct}/{total} correct)')\n",
    "pd.DataFrame({\n",
    "    'Parameter': train_x.columns,\n",
    "    'm_params_1': [f\"{x:.2f}\" for x in m_params_1.tolist()],\n",
    "    'm_params_2': [f\"{x:.2f}\" for x in m_params_2.tolist()]\n",
    "})"
   ]
  }
 ],
 "metadata": {
  "kaggle": {
   "accelerator": "none",
   "dataSources": [
    {
     "databundleVersionId": 26502,
     "sourceId": 3136,
     "sourceType": "competition"
    }
   ],
   "dockerImageVersionId": 31040,
   "isGpuEnabled": false,
   "isInternetEnabled": true,
   "language": "python",
   "sourceType": "notebook"
  },
  "kernelspec": {
   "display_name": ".venv",
   "language": "python",
   "name": "python3"
  },
  "language_info": {
   "codemirror_mode": {
    "name": "ipython",
    "version": 3
   },
   "file_extension": ".py",
   "mimetype": "text/x-python",
   "name": "python",
   "nbconvert_exporter": "python",
   "pygments_lexer": "ipython3",
   "version": "3.12.3"
  }
 },
 "nbformat": 4,
 "nbformat_minor": 4
}
