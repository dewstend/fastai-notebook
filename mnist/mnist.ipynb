{
 "cells": [
  {
   "cell_type": "code",
   "execution_count": 1,
   "metadata": {},
   "outputs": [],
   "source": [
    "from learner import Learner, BasicOptim, cross_entropy_loss\n",
    "from torch import nn, torch\n",
    "from torch.utils.data.dataloader import DataLoader\n",
    "import pandas as pd"
   ]
  },
  {
   "cell_type": "code",
   "execution_count": 2,
   "metadata": {},
   "outputs": [],
   "source": [
    "train_data = pd.read_csv('./downloads/train.csv')"
   ]
  },
  {
   "cell_type": "code",
   "execution_count": 3,
   "metadata": {},
   "outputs": [],
   "source": [
    "train_x = torch.tensor(train_data.iloc[:, 1:].to_numpy(), dtype=torch.float32) / 255.0\n",
    "train_y = torch.tensor(train_data.iloc[:, 0].to_numpy(), dtype=torch.long)\n",
    "\n",
    "dset = list(zip(train_x, train_y))"
   ]
  },
  {
   "cell_type": "code",
   "execution_count": 4,
   "metadata": {},
   "outputs": [],
   "source": [
    "model = nn.Sequential(\n",
    "    nn.Linear(28*28,30),\n",
    "    nn.ReLU(),\n",
    "    nn.Linear(30,10)\n",
    ").float()"
   ]
  },
  {
   "cell_type": "code",
   "execution_count": 5,
   "metadata": {},
   "outputs": [],
   "source": [
    "dl = DataLoader(dset, batch_size=256, shuffle=True)\n",
    "label_map = torch.arange(0, 10) # label: 0, idx: 0, and so on..."
   ]
  },
  {
   "cell_type": "code",
   "execution_count": 6,
   "metadata": {},
   "outputs": [],
   "source": [
    "learner = Learner(dl=dl, model=model, opt_func=BasicOptim, loss_func=cross_entropy_loss, lr=0.1, label_map=label_map, log=True)"
   ]
  },
  {
   "cell_type": "code",
   "execution_count": 7,
   "metadata": {},
   "outputs": [
    {
     "name": "stdout",
     "output_type": "stream",
     "text": [
      "Epoch 1: L 0.9530 | Acc 0.7858\n",
      "Epoch 11: L 0.2079 | Acc 0.9465\n",
      "Epoch 21: L 0.1520 | Acc 0.9626\n",
      "Epoch 30: L 0.1222 | Acc 0.9702\n",
      "Epoch 40: L 0.1011 | Acc 0.9757\n"
     ]
    }
   ],
   "source": [
    "learner.train_model(40, 0.1)"
   ]
  },
  {
   "cell_type": "code",
   "execution_count": 8,
   "metadata": {},
   "outputs": [],
   "source": [
    "test_data = pd.read_csv('./downloads/test.csv')\n",
    "test_x = torch.tensor(test_data.to_numpy(), dtype=torch.float32) / 255.0\n",
    "\n",
    "# 2. Predict\n",
    "test_preds = learner.predict(test_x)\n",
    "\n",
    "# 3. Save to CSV\n",
    "submission = pd.DataFrame({\n",
    "    \"ImageId\": range(1, len(test_preds) + 1),\n",
    "    \"Label\": test_preds.numpy()\n",
    "})\n",
    "submission.to_csv(\"submission.csv\", index=False)"
   ]
  }
 ],
 "metadata": {
  "kernelspec": {
   "display_name": ".venv",
   "language": "python",
   "name": "python3"
  },
  "language_info": {
   "codemirror_mode": {
    "name": "ipython",
    "version": 3
   },
   "file_extension": ".py",
   "mimetype": "text/x-python",
   "name": "python",
   "nbconvert_exporter": "python",
   "pygments_lexer": "ipython3",
   "version": "3.12.3"
  }
 },
 "nbformat": 4,
 "nbformat_minor": 2
}
